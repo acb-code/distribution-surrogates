{
 "cells": [
  {
   "cell_type": "code",
   "execution_count": 1,
   "outputs": [],
   "source": [
    "# Initial setup of copula generative model based on parametric distributions for larger set of variables\n",
    "#\n",
    "# Author: Alex Braafladt\n",
    "#\n",
    "# Version: v1 Initial creation 3/11/2022\n",
    "#          v2 First draft with all components for nonparametric experiment for continuous case 3/14/2022\n",
    "#          v3 Draft with updates for hosting on GitHub 4/30/2022\n",
    "#\n",
    "# References:\n",
    "#   -https://openturns.github.io/openturns/latest/theory/probabilistic_modeling/copulas.html#copula\n",
    "#   -https://openturns.github.io/openturns/latest/auto_probabilistic_modeling/copulas/plot_composed_copula.html\n",
    "#   -https://en.wikipedia.org/wiki/Copula_(probability_theory)"
   ],
   "metadata": {
    "collapsed": false,
    "pycharm": {
     "name": "#%%\n"
    }
   }
  },
  {
   "cell_type": "markdown",
   "source": [
    "# Nonparametric Order Reduction Using Canonical Problem\n",
    "\n",
    "This notebook examines the ability to use the order reduction techniques to find a data-based basis of reduced dimensionality for the data generated using the marginal+copula joint distribution (generative model) that was set up to match the characteristics of the distributions expected in the outputs from agent-based simulation"
   ],
   "metadata": {
    "collapsed": false,
    "pycharm": {
     "name": "#%% md\n"
    }
   }
  },
  {
   "cell_type": "code",
   "execution_count": 2,
   "outputs": [],
   "source": [
    "# probabilistic and statistical modeling\n",
    "import openturns as ot\n",
    "import openturns.viewer as viewer\n",
    "from statsmodels.distributions.empirical_distribution import ECDF\n",
    "from scipy import stats as st\n",
    "\n",
    "# data and numerical functions\n",
    "import numpy as np\n",
    "import pandas as pd\n",
    "\n",
    "# graphing and visualization functions\n",
    "import matplotlib.pyplot as plt\n",
    "import seaborn as sns\n",
    "\n",
    "# order reduction and data conditioners\n",
    "from sklearn.preprocessing import StandardScaler\n",
    "from sklearn.decomposition import PCA, KernelPCA\n",
    "from sklearn.model_selection import train_test_split\n",
    "\n",
    "# design of experiments\n",
    "from doepy import build\n",
    "\n",
    "# os operations\n",
    "import os as os\n",
    "import sys\n",
    "import datetime as dt\n",
    "import pickle\n",
    "from joblib import dump, load\n",
    "\n",
    "# custom functions\n",
    "import stats_functions as sf\n",
    "import copula_gen_data as cpgen"
   ],
   "metadata": {
    "collapsed": false,
    "pycharm": {
     "name": "#%%\n"
    }
   }
  },
  {
   "cell_type": "code",
   "execution_count": 4,
   "outputs": [
    {
     "name": "stdout",
     "output_type": "stream",
     "text": [
      "Current working directory: C:\\Users\\alexb\\PycharmProjects\\distribution-surrogates\n",
      "Data save directory: C:\\Users\\alexb\\PycharmProjects\\distribution-surrogates\\output\\\\nonparOR20220502094726\n"
     ]
    }
   ],
   "source": [
    "# directory setup\n",
    "\n",
    "# get current working directory\n",
    "wrkdir = os.getcwd()\n",
    "print('Current working directory: '+wrkdir)\n",
    "# set up a data save directory for all future runs\n",
    "newoutputdir = wrkdir+'\\output'\n",
    "if not os.path.exists(newoutputdir):\n",
    "    os.makedirs(newoutputdir)\n",
    "# set up a new directory to store files for the current run - updates at each new full run of notebook\n",
    "curDatetime = dt.datetime.now()\n",
    "datasavedir = newoutputdir + r'\\\\' + 'nonparOR' + str(curDatetime.strftime('%Y%m%d%H%M%S'))\n",
    "if not os.path.exists(datasavedir):\n",
    "    os.makedirs(datasavedir)\n",
    "print('Data save directory: '+datasavedir)"
   ],
   "metadata": {
    "collapsed": false,
    "pycharm": {
     "name": "#%%\n"
    }
   }
  },
  {
   "cell_type": "code",
   "execution_count": null,
   "outputs": [],
   "source": [
    "# set up emulator\n",
    "\n",
    "# defining objects here, to be moved to module later\n",
    "\n",
    "# Simulation class\n",
    "class Simulation:\n",
    "    \"\"\"\n",
    "    Object defining the joint distribution which represents an instance of a simulation\n",
    "\n",
    "    Attributes\n",
    "    ----------\n",
    "    param_vals : np.array\n",
    "        input values based on simulation configuration (subset of all_param_vals)\n",
    "    all_param_vals : np.array\n",
    "        all values used to setup the specifics of the simulation\n",
    "    corr_rng_seed :\n",
    "        value to use as the seed for setting up the correlation matrix\n",
    "    distribution_types : list of strings\n",
    "        list of the specific types of distributions to be used\n",
    "    marginals : list of ot distributions\n",
    "        list of the ot distribution objects that define the marginal distributions\n",
    "    correlation_matrix : ot.CorrelationMatrix\n",
    "        correlation matrix between marginals\n",
    "    copula : ot.NormalCopula\n",
    "        Gaussian copula created based on the correlation matrix between marginals\n",
    "    joint_distribution : ot.ComposedDistribution\n",
    "        the main element of the simulation, combines the marginals through the copula\n",
    "\n",
    "    Methods\n",
    "    -------\n",
    "\n",
    "\n",
    "    \"\"\"\n",
    "    def __init__(self, param_vals, corr_rng_seed):\n",
    "        self.param_vals = param_vals\n",
    "        self.all_param_vals = []\n",
    "        self.corr_rng_seed = corr_rng_seed\n",
    "        self.distribution_types = []\n",
    "        self.marginals = []\n",
    "        self.correlation_matrix = None\n",
    "        self.copula = None\n",
    "        self.joint_distribution = None\n",
    "\n",
    "    def update_parameter_values(self, new_params):\n",
    "        \"\"\"set the values of the input parameters for the simulation\"\"\"\n",
    "        self.param_vals = new_params\n",
    "\n",
    "    def update_distribution_types(self):\n",
    "        \"\"\"Create or replace the list of types of distributions to be included in marginals;\n",
    "        potentially an input in the future, for now, static\n",
    "        \"\"\"\n",
    "        dist_types = ['gaussian', 'gaussian', 'gaussian', 'gaussian', 'gaussian', 'gaussian',\n",
    "                      'gaussian', 'gaussian', 'gaussian', 'gaussmix', 'gaussmix', 'gaussmix',\n",
    "                      'gaussmix', 'uniform', 'uniform', 'uniform', 'uniform', 'beta',\n",
    "                      'beta', 'beta', 'beta', 'gumbel', 'gumbel', 'gumbel',\n",
    "                      'gumbel', 'binomial', 'binomial', 'skellam', 'skellam', 'poisson']\n",
    "        self.distribution_types = dist_types\n",
    "\n",
    "    def update_marginals(self):\n",
    "        \"\"\"Use the param values to fill out the list of marginal distributions\"\"\"\n",
    "\n",
    "\n",
    "    def update_correlation_matrix(self):\n",
    "        \"\"\"Use the input random seed and shape of marginals to create the correlation matrix\"\"\"\n",
    "        rng = np.random.default_rng(seed=self.corr_rng_seed)\n",
    "        num_distributions = len(self.marginals)\n",
    "        corr_samp = rng.uniform(low=0.0001, high=1.0, size=num_distributions)\n",
    "        norm_corr_samp = corr_samp / (sum(corr_samp))\n",
    "        local_corr_mat = norm_corr_samp * float(num_distributions)\n",
    "        rand_corr_mat = st.random_correlation.rvs(local_corr_mat, random_state=rng)\n",
    "        self.correlation_matrix = ot.CorrelationMatrix(num_distributions, rand_corr_mat.flatten())\n",
    "\n",
    "    def update_copula(self):\n",
    "        \"\"\"Use the correlation matrix to update the copula object for the simulation\"\"\"\n",
    "        self.copula = ot.NormalCopula(self.correlation_matrix)\n",
    "\n",
    "    def update_joint_distribution(self):\n",
    "        \"\"\"Use the marginals and copula to update the joint distribution for the simulation\"\"\"\n",
    "        self.update_marginals()\n",
    "        self.update_copula()\n",
    "        self.joint_distribution = ot.ComposedDistribution(self.marginals, self.copula)\n",
    "\n",
    "    def get_joint_distribution_samples(self, n_samples=1000):\n",
    "        \"\"\"Get the specified number of random samples from the joint distribution that\n",
    "        defines the simulation\n",
    "        \"\"\"\n",
    "        samples = np.array(self.joint_distribution.getSample(n_samples))\n",
    "        return samples"
   ],
   "metadata": {
    "collapsed": false,
    "pycharm": {
     "name": "#%%\n"
    }
   }
  }
 ],
 "metadata": {
  "kernelspec": {
   "display_name": "Python 3",
   "language": "python",
   "name": "python3"
  },
  "language_info": {
   "codemirror_mode": {
    "name": "ipython",
    "version": 2
   },
   "file_extension": ".py",
   "mimetype": "text/x-python",
   "name": "python",
   "nbconvert_exporter": "python",
   "pygments_lexer": "ipython2",
   "version": "2.7.6"
  }
 },
 "nbformat": 4,
 "nbformat_minor": 0
}