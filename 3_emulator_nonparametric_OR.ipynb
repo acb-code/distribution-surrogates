{
 "cells": [
  {
   "cell_type": "code",
   "execution_count": null,
   "metadata": {
    "collapsed": true,
    "pycharm": {
     "name": "#%%\n"
    }
   },
   "outputs": [],
   "source": [
    "# Initial setup of copula generative model based on parametric distributions for larger set of variables\n",
    "#\n",
    "# Author: Alex Braafladt\n",
    "#\n",
    "# Version: v1 Initial creation 3/11/2022\n",
    "#          v2 First draft with all components for nonparametric experiment for continuous case 3/14/2022\n",
    "#          v3 Draft with updates for hosting on GitHub\n",
    "#\n",
    "# References:\n",
    "#   -https://openturns.github.io/openturns/latest/theory/probabilistic_modeling/copulas.html#copula\n",
    "#   -https://openturns.github.io/openturns/latest/auto_probabilistic_modeling/copulas/plot_composed_copula.html\n",
    "#   -https://en.wikipedia.org/wiki/Copula_(probability_theory)"
   ]
  }
 ],
 "metadata": {
  "kernelspec": {
   "display_name": "Python 3",
   "language": "python",
   "name": "python3"
  },
  "language_info": {
   "codemirror_mode": {
    "name": "ipython",
    "version": 2
   },
   "file_extension": ".py",
   "mimetype": "text/x-python",
   "name": "python",
   "nbconvert_exporter": "python",
   "pygments_lexer": "ipython2",
   "version": "2.7.6"
  }
 },
 "nbformat": 4,
 "nbformat_minor": 0
}