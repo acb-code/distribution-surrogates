{
 "cells": [
  {
   "cell_type": "code",
   "execution_count": 1,
   "outputs": [],
   "source": [
    "# Initial setup of copula generative model based on parametric distributions for larger set of variables\n",
    "#\n",
    "# Author: Alex Braafladt\n",
    "#\n",
    "# Version: v1 Initial creation 3/11/2022\n",
    "#          v2 First draft with all components for nonparametric experiment for continuous case 3/14/2022\n",
    "#          v3 Draft with updates for hosting on GitHub 4/30/2022\n",
    "#\n",
    "# References:\n",
    "#   -https://openturns.github.io/openturns/latest/theory/probabilistic_modeling/copulas.html#copula\n",
    "#   -https://openturns.github.io/openturns/latest/auto_probabilistic_modeling/copulas/plot_composed_copula.html\n",
    "#   -https://en.wikipedia.org/wiki/Copula_(probability_theory)"
   ],
   "metadata": {
    "collapsed": false,
    "pycharm": {
     "name": "#%%\n"
    }
   }
  },
  {
   "cell_type": "markdown",
   "source": [
    "# Nonparametric Order Reduction Using Canonical Problem\n",
    "\n",
    "This notebook examines the ability to use the order reduction techniques to find a data-based basis of reduced dimensionality for the data generated using the marginal+copula joint distribution (generative model) that was set up to match the characteristics of the distributions expected in the outputs from agent-based simulation"
   ],
   "metadata": {
    "collapsed": false,
    "pycharm": {
     "name": "#%% md\n"
    }
   }
  },
  {
   "cell_type": "code",
   "execution_count": 2,
   "outputs": [],
   "source": [
    "# probabilistic and statistical modeling\n",
    "import openturns as ot\n",
    "import openturns.viewer as viewer\n",
    "from statsmodels.distributions.empirical_distribution import ECDF\n",
    "from scipy import stats as st\n",
    "\n",
    "# data and numerical functions\n",
    "import numpy as np\n",
    "import pandas as pd\n",
    "\n",
    "# graphing and visualization functions\n",
    "import matplotlib.pyplot as plt\n",
    "import seaborn as sns\n",
    "\n",
    "# order reduction and data conditioners\n",
    "from sklearn.preprocessing import StandardScaler\n",
    "from sklearn.decomposition import PCA, KernelPCA\n",
    "from sklearn.model_selection import train_test_split\n",
    "\n",
    "# design of experiments\n",
    "from doepy import build\n",
    "\n",
    "# os operations\n",
    "import os as os\n",
    "import sys\n",
    "import datetime as dt\n",
    "import pickle\n",
    "from joblib import dump, load\n",
    "\n",
    "# custom functions\n",
    "import stats_functions as sf\n",
    "import copula_gen_data as cpgen"
   ],
   "metadata": {
    "collapsed": false,
    "pycharm": {
     "name": "#%%\n"
    }
   }
  },
  {
   "cell_type": "code",
   "execution_count": 4,
   "outputs": [
    {
     "name": "stdout",
     "output_type": "stream",
     "text": [
      "Current working directory: C:\\Users\\alexb\\PycharmProjects\\distribution-surrogates\n",
      "Data save directory: C:\\Users\\alexb\\PycharmProjects\\distribution-surrogates\\output\\\\nonparOR20220502094726\n"
     ]
    }
   ],
   "source": [
    "# directory setup\n",
    "\n",
    "# get current working directory\n",
    "wrkdir = os.getcwd()\n",
    "print('Current working directory: '+wrkdir)\n",
    "# set up a data save directory for all future runs\n",
    "newoutputdir = wrkdir+'\\output'\n",
    "if not os.path.exists(newoutputdir):\n",
    "    os.makedirs(newoutputdir)\n",
    "# set up a new directory to store files for the current run - updates at each new full run of notebook\n",
    "curDatetime = dt.datetime.now()\n",
    "datasavedir = newoutputdir + r'\\\\' + 'nonparOR' + str(curDatetime.strftime('%Y%m%d%H%M%S'))\n",
    "if not os.path.exists(datasavedir):\n",
    "    os.makedirs(datasavedir)\n",
    "print('Data save directory: '+datasavedir)"
   ],
   "metadata": {
    "collapsed": false,
    "pycharm": {
     "name": "#%%\n"
    }
   }
  },
  {
   "cell_type": "code",
   "execution_count": 5,
   "outputs": [],
   "source": [
    "# set up emulator\n",
    "\n",
    "# defining objects here, to be moved to module later\n",
    "\n",
    "# Simulation class\n",
    "class Simulation:\n",
    "    \"\"\"\n",
    "    Object defining the joint distribution which represents an instance of a simulation\n",
    "\n",
    "    Attributes\n",
    "    ----------\n",
    "    param_vals : np.array\n",
    "        input values based on simulation configuration (subset of all_param_vals)\n",
    "    all_param_vals : np.array\n",
    "        all values used to setup the specifics of the simulation\n",
    "    corr_rng_seed :\n",
    "        value to use as the seed for setting up the correlation matrix\n",
    "    distribution_types : list of strings\n",
    "        list of the specific types of distributions to be used\n",
    "    marginals : list of ot distributions\n",
    "        list of the ot distribution objects that define the marginal distributions\n",
    "    correlation_matrix : ot.CorrelationMatrix\n",
    "        correlation matrix between marginals\n",
    "    copula : ot.NormalCopula\n",
    "        Gaussian copula created based on the correlation matrix between marginals\n",
    "    joint_distribution : ot.ComposedDistribution\n",
    "        the main element of the simulation, combines the marginals through the copula\n",
    "\n",
    "    Methods\n",
    "    -------\n",
    "\n",
    "\n",
    "    \"\"\"\n",
    "    def __init__(self, input_vals, corr_rng_seed):\n",
    "        self.input_vals = input_vals\n",
    "        self.param_vals = []\n",
    "        self.all_param_vals = []\n",
    "        self.corr_rng_seed = corr_rng_seed\n",
    "        self.distribution_types = []\n",
    "        self.marginals = []\n",
    "        self.correlation_matrix = None\n",
    "        self.copula = None\n",
    "        self.joint_distribution = None\n",
    "\n",
    "    def update_parameter_values(self):\n",
    "        \"\"\"set the values of the input parameters for the simulation\"\"\"\n",
    "        input_params = self.input_vals\n",
    "        param_list = [[input_params[4] * input_params[7], 3.0], [input_params[5] * 0.8, 10.0],\n",
    "                      [input_params[0],100.0], [-350.0,input_params[5]+10.*input_params[6]],\n",
    "                      [input_params[11]+0.3,0.3], [0.1*input_params[0], 1.2*input_params[1]],\n",
    "                      [input_params[-2], 3.0], [35000.0, input_params[1]], [input_params[-3]*4., 3.9],\n",
    "                      [-1.5, 1.0, 1.5, 1.0, 1.0 - input_params[4], input_params[4]],\n",
    "                      [input_params[2], 1.0, 5, 3.0, 0.5, 0.5],\n",
    "                      [55.0*input_params[4], 5.0, 85.0, 5.0, input_params[3], 1.0 - input_params[3]],\n",
    "                      [input_params[4]**2, 0.1, 0.9, 0.25, 0.5, 0.5], [input_params[4],1.0],\n",
    "                      [input_params[-5]*0.5,0.6], [35.0,input_params[5]], [3.0*input_params[6]-1.5,3.1],\n",
    "                      [input_params[6], 0.5, -1.0, 1.0], [5.0, 1.0*input_params[6], -1.0, 1.0],\n",
    "                      [2.0, input_params[7], -1.0, 1.0], [input_params[7], 5.0, -1.0, 1.0],\n",
    "                      [input_params[8], 2.0], [1.0*input_params[6], 2.0], [1.5, 3.0*input_params[6]],\n",
    "                      [1.5, input_params[9]], [20, input_params[10]], [30, input_params[11]],\n",
    "                      [input_params[12], 2.], [1, input_params[13]], [input_params[14]]]\n",
    "        self.param_vals = param_list\n",
    "\n",
    "    def update_distribution_types(self):\n",
    "        \"\"\"Create or replace the list of types of distributions to be included in marginals;\n",
    "        potentially an input in the future, for now, static\n",
    "        \"\"\"\n",
    "        dist_types = ['gaussian', 'gaussian', 'gaussian', 'gaussian', 'gaussian', 'gaussian',\n",
    "                      'gaussian', 'gaussian', 'gaussian', 'gaussmix', 'gaussmix', 'gaussmix',\n",
    "                      'gaussmix', 'uniform', 'uniform', 'uniform', 'uniform', 'beta',\n",
    "                      'beta', 'beta', 'beta', 'gumbel', 'gumbel', 'gumbel',\n",
    "                      'gumbel', 'binomial', 'binomial', 'skellam', 'skellam', 'poisson']\n",
    "        self.distribution_types = dist_types\n",
    "\n",
    "    def update_marginals(self):\n",
    "        \"\"\"Use the param values to fill out the list of marginal distributions\"\"\"\n",
    "        # first, put specific inputs into distribution parameters list\n",
    "        self.update_parameter_values()\n",
    "        # then, list all the types of marginal distributions to create\n",
    "        self.update_distribution_types()\n",
    "        # then, for each dist_type : param_values pair, create the corresponding ot distribution\n",
    "        for (vals, name) in zip(self.param_vals, self.distribution_types):\n",
    "            if name == 'gaussian':\n",
    "                self.marginals.append(ot.Normal(vals[0], vals[1]))\n",
    "            elif name == 'gaussmix':\n",
    "                mix_margs = [ot.Normal(vals[0], vals[1]), ot.Normal(vals[2], vals[3])]\n",
    "                mix_weights = [vals[4], vals[5]]\n",
    "                self.marginals.append(ot.Mixture(mix_margs, mix_weights))\n",
    "            elif name == 'uniform':\n",
    "                self.marginals.append(ot.Uniform(vals[0], vals[1]))\n",
    "            elif name == 'beta':\n",
    "                self.marginals.append(ot.Beta(vals[0], vals[1], vals[2], vals[3]))\n",
    "            elif name == 'gumbel':\n",
    "                self.marginals.append(ot.Gumbel(vals[0], vals[1]))\n",
    "            elif name == 'binomial':\n",
    "                self.marginals.append(ot.Binomial(int(vals[0]), vals[1]))\n",
    "            elif name == 'skellam':\n",
    "                self.marginals.append(ot.Skellam(vals[0], vals[1]))\n",
    "            elif name == 'poisson':\n",
    "                self.marginals.append(ot.Poisson(vals[0]))\n",
    "            else:\n",
    "                print('Unexpected distribution name')\n",
    "                self.marginals.append(ot.Normal(0, 1))\n",
    "\n",
    "    def update_correlation_matrix(self):\n",
    "        \"\"\"Use the input random seed and shape of marginals to create the correlation matrix\"\"\"\n",
    "        # requires marginals to be created first\n",
    "        rng = np.random.default_rng(seed=self.corr_rng_seed)\n",
    "        num_distributions = len(self.marginals)\n",
    "        corr_samp = rng.uniform(low=0.0001, high=1.0, size=num_distributions)\n",
    "        norm_corr_samp = corr_samp / (sum(corr_samp))\n",
    "        local_corr_mat = norm_corr_samp * float(num_distributions)\n",
    "        rand_corr_mat = st.random_correlation.rvs(local_corr_mat, random_state=rng)\n",
    "        self.correlation_matrix = ot.CorrelationMatrix(num_distributions, rand_corr_mat.flatten())\n",
    "\n",
    "    def update_copula(self):\n",
    "        \"\"\"Use the correlation matrix to update the copula object for the simulation\"\"\"\n",
    "        self.update_correlation_matrix()\n",
    "        self.copula = ot.NormalCopula(self.correlation_matrix)\n",
    "\n",
    "    def update_joint_distribution(self):\n",
    "        \"\"\"Use the marginals and copula to update the joint distribution for the simulation\"\"\"\n",
    "        # create ot distributions for the marginals\n",
    "        self.update_marginals()\n",
    "        # create an ot copula to connect the ot distributions\n",
    "        self.update_copula()\n",
    "        # combine into a joint distribution\n",
    "        self.joint_distribution = ot.ComposedDistribution(self.marginals, self.copula)\n",
    "\n",
    "    def get_joint_distribution_samples(self, n_samples=1000):\n",
    "        \"\"\"Get the specified number of random samples from the joint distribution that\n",
    "        defines the simulation\n",
    "        \"\"\"\n",
    "        self.update_joint_distribution()\n",
    "        samples = np.array(self.joint_distribution.getSample(n_samples))\n",
    "        return samples"
   ],
   "metadata": {
    "collapsed": false,
    "pycharm": {
     "name": "#%%\n"
    }
   }
  },
  {
   "cell_type": "code",
   "execution_count": 6,
   "outputs": [],
   "source": [
    "x_in = np.array([1000., 6500., -1.0, 0.2, 0.2, 45., 1.2, 3.0, 0.6, 2.2, 0.7, 0.6, 12., 8., 2.])"
   ],
   "metadata": {
    "collapsed": false,
    "pycharm": {
     "name": "#%%\n"
    }
   }
  },
  {
   "cell_type": "code",
   "execution_count": 7,
   "outputs": [],
   "source": [
    "sim_ex = Simulation(x_in, 42)"
   ],
   "metadata": {
    "collapsed": false,
    "pycharm": {
     "name": "#%%\n"
    }
   }
  },
  {
   "cell_type": "code",
   "execution_count": 9,
   "outputs": [
    {
     "name": "stdout",
     "output_type": "stream",
     "text": [
      "CPU times: total: 391 ms\n",
      "Wall time: 57 ms\n"
     ]
    }
   ],
   "source": [
    "%%time\n",
    "ex_samples = sim_ex.get_joint_distribution_samples(1000)"
   ],
   "metadata": {
    "collapsed": false,
    "pycharm": {
     "name": "#%%\n"
    }
   }
  },
  {
   "cell_type": "code",
   "execution_count": null,
   "outputs": [],
   "source": [
    "# Data class\n",
    "\n",
    "class Data:\n",
    "    \"\"\"\n",
    "    Object to hold different versions of data generated from multiple simulation calls\n",
    "    -conditions and converts to fill out required data types for Experiment\n",
    "\n",
    "    Attributes\n",
    "    ----------\n",
    "\n",
    "    Methods\n",
    "    -------\n",
    "\n",
    "    \"\"\"\n",
    "    def __init__(self, samples, custom_bins=None, custom_scaler=None, discrete_flags=None):\n",
    "        self.samples = samples\n",
    "        self.custom_bins = custom_bins\n",
    "        self.custom_scaler = custom_scaler\n",
    "        self.scaler = None\n",
    "        self.scaled_samples = None\n",
    "        self.scaled_epdfs = None\n",
    "        self.scaled_ecdfs = None\n",
    "        self.discrete_flags = discrete_flags"
   ],
   "metadata": {
    "collapsed": false,
    "pycharm": {
     "name": "#%%\n"
    }
   }
  }
 ],
 "metadata": {
  "kernelspec": {
   "display_name": "Python 3",
   "language": "python",
   "name": "python3"
  },
  "language_info": {
   "codemirror_mode": {
    "name": "ipython",
    "version": 2
   },
   "file_extension": ".py",
   "mimetype": "text/x-python",
   "name": "python",
   "nbconvert_exporter": "python",
   "pygments_lexer": "ipython2",
   "version": "2.7.6"
  }
 },
 "nbformat": 4,
 "nbformat_minor": 0
}