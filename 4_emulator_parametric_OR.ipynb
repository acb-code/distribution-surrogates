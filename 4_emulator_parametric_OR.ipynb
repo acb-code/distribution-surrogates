{
 "cells": [
  {
   "cell_type": "code",
   "execution_count": 1,
   "outputs": [],
   "source": [
    "# Initial setup of copula generative model based on parametric distributions for larger set of variables\n",
    "# Extension to parametric design context\n",
    "#\n",
    "# Author: Alex Braafladt\n",
    "#\n",
    "# Version: v1 Initial creation 3/11/2022\n",
    "#          v2 First draft with all components for nonparametric experiment for continuous case 3/14/2022\n",
    "#          v3 Draft with updates for hosting on GitHub 5/2/2022\n",
    "#\n",
    "# References:\n",
    "#   -https://openturns.github.io/openturns/latest/theory/probabilistic_modeling/copulas.html#copula\n",
    "#   -https://openturns.github.io/openturns/latest/auto_probabilistic_modeling/copulas/plot_composed_copula.html\n",
    "#   -https://en.wikipedia.org/wiki/Copula_(probability_theory)"
   ],
   "metadata": {
    "collapsed": false,
    "pycharm": {
     "name": "#%%\n"
    }
   }
  },
  {
   "cell_type": "markdown",
   "source": [
    "# Parametric order reduction with emulator data\n",
    "\n",
    "Extension of order reduction approach to design context with parametricly varying input variables. Structured OR approach tested with hypothesis of using empirical probability density functions, and falsified, prompting an alternative hypothesis"
   ],
   "metadata": {
    "collapsed": false,
    "pycharm": {
     "name": "#%% md\n"
    }
   }
  },
  {
   "cell_type": "code",
   "execution_count": 2,
   "outputs": [],
   "source": [
    "# probabilistic and statistical modeling\n",
    "import openturns as ot\n",
    "import openturns.viewer as viewer\n",
    "from statsmodels.distributions.empirical_distribution import ECDF\n",
    "from scipy import stats as st\n",
    "from scipy.stats import pearsonr\n",
    "from scipy.spatial.distance import jensenshannon\n",
    "\n",
    "# data and numerical functions\n",
    "import numpy as np\n",
    "import pandas as pd\n",
    "\n",
    "# graphing and visualization functions\n",
    "import matplotlib.pyplot as plt\n",
    "import seaborn as sns\n",
    "\n",
    "# order reduction and data conditioners\n",
    "from sklearn.preprocessing import StandardScaler\n",
    "from sklearn.decomposition import PCA, KernelPCA\n",
    "from sklearn.model_selection import train_test_split\n",
    "\n",
    "# design of experiments\n",
    "from doepy import build\n",
    "\n",
    "# os operations\n",
    "import os as os\n",
    "import sys\n",
    "import datetime as dt\n",
    "import pickle\n",
    "from joblib import dump, load\n",
    "\n",
    "# custom functions\n",
    "import stats_functions as sf\n",
    "import copula_gen_data as cpgen\n",
    "from emulator_classes import Simulation, Data"
   ],
   "metadata": {
    "collapsed": false,
    "pycharm": {
     "name": "#%%\n"
    }
   }
  },
  {
   "cell_type": "code",
   "execution_count": 3,
   "outputs": [
    {
     "name": "stdout",
     "output_type": "stream",
     "text": [
      "Current working directory: C:\\Users\\alexb\\PycharmProjects\\distribution-surrogates\n",
      "Data save directory: C:\\Users\\alexb\\PycharmProjects\\distribution-surrogates\\output\\\\parOR20220502195451\n"
     ]
    }
   ],
   "source": [
    "# directory setup\n",
    "\n",
    "# get current working directory\n",
    "wrkdir = os.getcwd()\n",
    "print('Current working directory: '+wrkdir)\n",
    "# set up a data save directory for all future runs\n",
    "newoutputdir = wrkdir+'\\output'\n",
    "if not os.path.exists(newoutputdir):\n",
    "    os.makedirs(newoutputdir)\n",
    "# set up a new directory to store files for the current run - updates at each new full run of notebook\n",
    "curDatetime = dt.datetime.now()\n",
    "datasavedir = newoutputdir + r'\\\\' + 'parOR' + str(curDatetime.strftime('%Y%m%d%H%M%S'))\n",
    "if not os.path.exists(datasavedir):\n",
    "    os.makedirs(datasavedir)\n",
    "print('Data save directory: '+datasavedir)"
   ],
   "metadata": {
    "collapsed": false,
    "pycharm": {
     "name": "#%%\n"
    }
   }
  },
  {
   "cell_type": "code",
   "execution_count": 4,
   "outputs": [],
   "source": [],
   "metadata": {
    "collapsed": false,
    "pycharm": {
     "name": "#%%\n"
    }
   }
  },
  {
   "cell_type": "code",
   "execution_count": 5,
   "outputs": [],
   "source": [],
   "metadata": {
    "collapsed": false,
    "pycharm": {
     "name": "#%%\n"
    }
   }
  },
  {
   "cell_type": "code",
   "execution_count": null,
   "outputs": [],
   "source": [],
   "metadata": {
    "collapsed": false,
    "pycharm": {
     "name": "#%%\n"
    }
   }
  }
 ],
 "metadata": {
  "kernelspec": {
   "display_name": "Python 3",
   "language": "python",
   "name": "python3"
  },
  "language_info": {
   "codemirror_mode": {
    "name": "ipython",
    "version": 2
   },
   "file_extension": ".py",
   "mimetype": "text/x-python",
   "name": "python",
   "nbconvert_exporter": "python",
   "pygments_lexer": "ipython2",
   "version": "2.7.6"
  }
 },
 "nbformat": 4,
 "nbformat_minor": 0
}