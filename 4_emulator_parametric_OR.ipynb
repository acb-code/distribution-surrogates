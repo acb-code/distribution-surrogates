{
 "cells": [
  {
   "cell_type": "code",
   "execution_count": 32,
   "outputs": [],
   "source": [
    "# Initial setup of copula generative model based on parametric distributions for larger set of variables\n",
    "# Extension to parametric design context\n",
    "#\n",
    "# Author: Alex Braafladt\n",
    "#\n",
    "# Version: v1 Initial creation 3/11/2022\n",
    "#          v2 First draft with all components for nonparametric experiment for continuous case 3/14/2022\n",
    "#          v3 Draft with updates for hosting on GitHub 5/2/2022\n",
    "#\n",
    "# References:\n",
    "#   -https://openturns.github.io/openturns/latest/theory/probabilistic_modeling/copulas.html#copula\n",
    "#   -https://openturns.github.io/openturns/latest/auto_probabilistic_modeling/copulas/plot_composed_copula.html\n",
    "#   -https://en.wikipedia.org/wiki/Copula_(probability_theory)"
   ],
   "metadata": {
    "collapsed": false,
    "pycharm": {
     "name": "#%%\n"
    }
   }
  },
  {
   "cell_type": "markdown",
   "source": [
    "# Parametric order reduction with emulator data\n",
    "\n",
    "Extension of order reduction approach to design context with parametricly varying input variables. Structured OR approach tested with hypothesis of using empirical probability density functions, and falsified, prompting an alternative hypothesis"
   ],
   "metadata": {
    "collapsed": false,
    "pycharm": {
     "name": "#%% md\n"
    }
   }
  },
  {
   "cell_type": "code",
   "execution_count": 33,
   "outputs": [],
   "source": [
    "# probabilistic and statistical modeling\n",
    "import openturns as ot\n",
    "import openturns.viewer as viewer\n",
    "from statsmodels.distributions.empirical_distribution import ECDF\n",
    "from scipy import stats as st\n",
    "from scipy.stats import pearsonr\n",
    "from scipy.spatial.distance import jensenshannon\n",
    "\n",
    "# data and numerical functions\n",
    "import numpy as np\n",
    "import pandas as pd\n",
    "\n",
    "# graphing and visualization functions\n",
    "import matplotlib.pyplot as plt\n",
    "import seaborn as sns\n",
    "\n",
    "# order reduction and data conditioners\n",
    "from sklearn.preprocessing import StandardScaler\n",
    "from sklearn.decomposition import PCA, KernelPCA\n",
    "from sklearn.model_selection import train_test_split\n",
    "\n",
    "# design of experiments\n",
    "from doepy import build\n",
    "\n",
    "# os operations\n",
    "import os as os\n",
    "import sys\n",
    "import datetime as dt\n",
    "import pickle\n",
    "from joblib import dump, load\n",
    "\n",
    "# custom functions\n",
    "import stats_functions as sf\n",
    "import copula_gen_data as cpgen\n",
    "from emulator_classes import Simulation, Data, Experiment"
   ],
   "metadata": {
    "collapsed": false,
    "pycharm": {
     "name": "#%%\n"
    }
   }
  },
  {
   "cell_type": "code",
   "execution_count": 34,
   "outputs": [
    {
     "name": "stdout",
     "output_type": "stream",
     "text": [
      "Current working directory: C:\\Users\\alexb\\PycharmProjects\\distribution-surrogates\n",
      "Data save directory: C:\\Users\\alexb\\PycharmProjects\\distribution-surrogates\\output\\\\parOR20220505101205\n"
     ]
    }
   ],
   "source": [
    "# directory setup\n",
    "\n",
    "# get current working directory\n",
    "wrkdir = os.getcwd()\n",
    "print('Current working directory: '+wrkdir)\n",
    "# set up a data save directory for all future runs\n",
    "newoutputdir = wrkdir+'\\output'\n",
    "if not os.path.exists(newoutputdir):\n",
    "    os.makedirs(newoutputdir)\n",
    "# set up a new directory to store files for the current run - updates at each new full run of notebook\n",
    "curDatetime = dt.datetime.now()\n",
    "datasavedir = newoutputdir + r'\\\\' + 'parOR' + str(curDatetime.strftime('%Y%m%d%H%M%S'))\n",
    "if not os.path.exists(datasavedir):\n",
    "    os.makedirs(datasavedir)\n",
    "print('Data save directory: '+datasavedir)"
   ],
   "metadata": {
    "collapsed": false,
    "pycharm": {
     "name": "#%%\n"
    }
   }
  },
  {
   "cell_type": "code",
   "execution_count": 35,
   "outputs": [
    {
     "name": "stdout",
     "output_type": "stream",
     "text": [
      "CPU times: total: 2min 57s\n",
      "Wall time: 38.9 s\n"
     ]
    }
   ],
   "source": [
    "%%time\n",
    "# generate parametric data\n",
    "input_ranges = np.array([[500.0, 55000.0], [100.0, 7000.0], [-5.0,3.0], [0.1, 0.9], [0.0, 0.5],\n",
    "                         [40.0, 80.0], [0.5, 1.5], [1.0, 4.0], [0.5, 1.5], [2.0, 3.0],\n",
    "                         [0.2, 0.8], [0.4, 0.8], [1., 15.], [7., 10.], [1., 10.]])\n",
    "\n",
    "# flag which distributions are discrete for later use in analysis\n",
    "discrete_flags = []\n",
    "for i in range(25):\n",
    "    discrete_flags.append(False)\n",
    "for i in range(5):\n",
    "    discrete_flags.append(True)\n",
    "\n",
    "parametric_experiment = Experiment(input_ranges, num_cases=1000, discrete_flags=discrete_flags)\n",
    "parametric_experiment.generate_data()\n",
    "exp_data = parametric_experiment.data"
   ],
   "metadata": {
    "collapsed": false,
    "pycharm": {
     "name": "#%%\n"
    }
   }
  },
  {
   "cell_type": "markdown",
   "source": [
    "#### Attempt at order reduction with parametric data\n",
    "In the parametric case, the data is instead stacked into snapshots to identify a basis for the **set** of distributions generated by each simulation run. However, the histogram structuring approach runs into a problem here which will be shown below."
   ],
   "metadata": {
    "collapsed": false,
    "pycharm": {
     "name": "#%% md\n"
    }
   }
  },
  {
   "cell_type": "code",
   "execution_count": 36,
   "outputs": [],
   "source": [
    "# show error that results from histogram structuring approach\n",
    "\n",
    "# structuring data across all cases ranges for the histogram bins\n",
    "# get full set bins\n",
    "raw_data = exp_data.scaled_samples\n",
    "split_data_by_case = np.split(raw_data, raw_data.shape[0], axis=0)\n",
    "split_data_by_case = [elem[0] for elem in split_data_by_case]\n",
    "data_np_dists = np.concatenate(split_data_by_case, axis=0)\n",
    "def get_global_bins(arr):\n",
    "    _, bins = np.histogram(arr,bins=50)\n",
    "    return bins\n",
    "epdf_global_bins = np.apply_along_axis(get_global_bins, arr=data_np_dists, axis=0)\n",
    "epdf_global_bins = np.split(epdf_global_bins, epdf_global_bins.shape[1], axis=1)\n",
    "# structure data accordingly\n",
    "split_data_by_dist = np.split(raw_data, raw_data.shape[2], axis=2)\n",
    "split_data_by_dist = [elem[:,:,0] for elem in split_data_by_dist]\n",
    "# pair bins and data\n",
    "paired_data = list(zip(epdf_global_bins, split_data_by_dist))\n",
    "# structure data\n",
    "# structured_data = [sf.get_epdf_probs(t[1][:,0], t[0][:,0]) for t in paired_data]\n",
    "structured_data = [np.apply_along_axis(sf.get_epdf_probs, arr=t[1], bins=t[0][:,0], axis=1) for t in paired_data]\n",
    "structured_data = np.stack(structured_data, axis=2)"
   ],
   "metadata": {
    "collapsed": false,
    "pycharm": {
     "name": "#%%\n"
    }
   }
  },
  {
   "cell_type": "code",
   "execution_count": 37,
   "outputs": [
    {
     "data": {
      "text/plain": "<Figure size 720x360 with 2 Axes>",
      "image/png": "[encoded data removed]"
     },
     "metadata": {},
     "output_type": "display_data"
    }
   ],
   "source": [
    "# plot case with where structuring works as desired\n",
    "case_to_plot = 0\n",
    "dist_to_plot = 0\n",
    "title = \"Case \" + str(case_to_plot) + \" and Distribution \" + str(dist_to_plot)\n",
    "# plot example of epdf structure\n",
    "fig1, ax1 = plt.subplots(2,1, figsize=(10,5), constrained_layout=True, gridspec_kw={'height_ratios':[5,1]})\n",
    "ax = ax1.ravel()\n",
    "center = ( (epdf_global_bins[dist_to_plot][:-1] + epdf_global_bins[dist_to_plot][1:])/2.0 )[:,0]\n",
    "width = (epdf_global_bins[dist_to_plot][1] - epdf_global_bins[dist_to_plot][0])*0.8\n",
    "ax[0].bar(center, structured_data[case_to_plot,:,dist_to_plot], alpha=0.5, width=width, label='Probabilities in bins')\n",
    "ax[0].set_title(\"Histogram\")\n",
    "ax[1].plot(epdf_global_bins[dist_to_plot], np.zeros_like(epdf_global_bins[dist_to_plot]), '|', label='Bin edges')\n",
    "ax[1].set_title('Bin Edges')\n",
    "ax[1].set_yticks(())\n",
    "plt.suptitle(title)\n",
    "plot_title = 'Case ' + str(case_to_plot) + ' Distribution ' + str(dist_to_plot) + ' Histogram-Bin-Comparison'"
   ],
   "metadata": {
    "collapsed": false,
    "pycharm": {
     "name": "#%%\n"
    }
   }
  },
  {
   "cell_type": "code",
   "execution_count": 38,
   "outputs": [
    {
     "data": {
      "text/plain": "<Figure size 720x360 with 2 Axes>",
      "image/png": "[encoded data removed]"
     },
     "metadata": {},
     "output_type": "display_data"
    }
   ],
   "source": [
    "# plot case with resolution difficulty\n",
    "case_to_plot = 0\n",
    "dist_to_plot = 2\n",
    "title = \"Case \" + str(case_to_plot) + \" and Distribution \" + str(dist_to_plot)\n",
    "# plot example of epdf structure\n",
    "fig2, ax2 = plt.subplots(2,1, figsize=(10,5), constrained_layout=True, gridspec_kw={'height_ratios':[5,1]})\n",
    "ax = ax2.ravel()\n",
    "center = ( (epdf_global_bins[dist_to_plot][:-1] + epdf_global_bins[dist_to_plot][1:])/2.0 )[:,0]\n",
    "width = (epdf_global_bins[dist_to_plot][1] - epdf_global_bins[dist_to_plot][0])*0.8\n",
    "ax[0].bar(center, structured_data[case_to_plot,:,dist_to_plot], alpha=0.5, width=width, label='Probabilities in bins')\n",
    "ax[0].set_title(\"Histogram\")\n",
    "ax[1].plot(epdf_global_bins[dist_to_plot], np.zeros_like(epdf_global_bins[dist_to_plot]), '|', label='Bin edges')\n",
    "ax[1].set_title('Bin Edges')\n",
    "ax[1].set_yticks(())\n",
    "plt.suptitle(title)\n",
    "plot_title = 'Case ' + str(case_to_plot) + ' Distribution ' + str(dist_to_plot) + ' Histogram-Bin-Comparison'"
   ],
   "metadata": {
    "collapsed": false,
    "pycharm": {
     "name": "#%%\n"
    }
   }
  },
  {
   "cell_type": "code",
   "execution_count": null,
   "outputs": [],
   "source": [
    "#todo - add Bokeh interactive plot"
   ],
   "metadata": {
    "collapsed": false,
    "pycharm": {
     "name": "#%%\n"
    }
   }
  },
  {
   "cell_type": "markdown",
   "source": [
    "#### Falsified hypothesis 1\n",
    "The structuring approach that formed a part of the hypothesis for working effectively order reduction was based on defining the histogram bins based on the full training dataset (so as to be able to recover those bins for any interpolated distribution). However, this leads to cases where the resolution of the histograms is lost when there is enough mean shift across the cases in the dataset. Having falsified this hypothesis, an alternative hypothesis is generated and considered next."
   ],
   "metadata": {
    "collapsed": false,
    "pycharm": {
     "name": "#%% md\n"
    }
   }
  },
  {
   "cell_type": "markdown",
   "source": [
    "## Alternative hypothesis 1\n",
    "A set of alternatives were generated as options to enable the feasibility of order reduction with the stochastic distributions after falsifying the original approach. Please reach out to request the details if desired, but the most promising alternative was structuring using empirical cumulative distribution functions (ecdfs). This separates the structure into two components, the x-values of the ecdf, and y-values that depend solely on the number of samples included in the data used to generate the ecdf. This separation allows the only piece of information needed in the modeling process to be the ecdf x-values."
   ],
   "metadata": {
    "collapsed": false,
    "pycharm": {
     "name": "#%% md\n"
    }
   }
  },
  {
   "cell_type": "code",
   "execution_count": 41,
   "outputs": [],
   "source": [
    "# alternative hypothesis with ecdf structuring approach\n",
    "\n",
    "# structuring data across all cases based on ecdfs\n",
    "ecdf_y, ecdfx_true = exp_data.scaled_ecdfs"
   ],
   "metadata": {
    "collapsed": false,
    "pycharm": {
     "name": "#%%\n"
    }
   }
  },
  {
   "cell_type": "code",
   "execution_count": 44,
   "outputs": [
    {
     "data": {
      "text/plain": "Text(0.5, 0.98, 'Case 0 and Distribution 2')"
     },
     "execution_count": 44,
     "metadata": {},
     "output_type": "execute_result"
    },
    {
     "data": {
      "text/plain": "<Figure size 720x360 with 1 Axes>",
      "image/png": "[encoded data removed]"
     },
     "metadata": {},
     "output_type": "display_data"
    }
   ],
   "source": [
    "# plot case example\n",
    "case_to_plot = 0\n",
    "dist_to_plot = 2\n",
    "title = \"Case \" + str(case_to_plot) + \" and Distribution \" + str(dist_to_plot)\n",
    "# plot example of epdf structure\n",
    "fig3, ax3 = plt.subplots(1,1, figsize=(10,5), constrained_layout=True)\n",
    "ax3.plot(ecdfx_true[case_to_plot,:,dist_to_plot], ecdf_y)\n",
    "plt.suptitle(title)"
   ],
   "metadata": {
    "collapsed": false,
    "pycharm": {
     "name": "#%%\n"
    }
   }
  },
  {
   "cell_type": "code",
   "execution_count": 40,
   "outputs": [],
   "source": [
    "# sweep through OR RIC levels with data to show performance of approach\n",
    "\n",
    "req_ric = 0.9999\n"
   ],
   "metadata": {
    "collapsed": false,
    "pycharm": {
     "name": "#%%\n"
    }
   }
  },
  {
   "cell_type": "code",
   "execution_count": 40,
   "outputs": [],
   "source": [],
   "metadata": {
    "collapsed": false,
    "pycharm": {
     "name": "#%%\n"
    }
   }
  }
 ],
 "metadata": {
  "kernelspec": {
   "display_name": "Python 3",
   "language": "python",
   "name": "python3"
  },
  "language_info": {
   "codemirror_mode": {
    "name": "ipython",
    "version": 2
   },
   "file_extension": ".py",
   "mimetype": "text/x-python",
   "name": "python",
   "nbconvert_exporter": "python",
   "pygments_lexer": "ipython2",
   "version": "2.7.6"
  }
 },
 "nbformat": 4,
 "nbformat_minor": 0
}