{
 "cells": [
  {
   "cell_type": "code",
   "execution_count": 1,
   "metadata": {
    "collapsed": true,
    "pycharm": {
     "name": "#%%\n"
    }
   },
   "outputs": [],
   "source": [
    "# interactive, parametric exploration of simulation and predictive model in tandem\n",
    "#\n",
    "# Author: Alex Braafladt\n",
    "#\n",
    "# Version: v1 Initial creation 5/17/2022\n",
    "#\n",
    "# References:\n",
    "#   -"
   ]
  },
  {
   "cell_type": "markdown",
   "source": [
    "## Interactive, Parametric Exploration\n",
    "\n",
    "This notebook showcases a simple interactive app for qualitatively exploring the predictive accuracy across the input ranges considered."
   ],
   "metadata": {
    "collapsed": false,
    "pycharm": {
     "name": "#%% md\n"
    }
   }
  },
  {
   "cell_type": "code",
   "execution_count": 2,
   "outputs": [],
   "source": [
    "# imports\n",
    "# probabilistic and statistical modeling\n",
    "import openturns as ot\n",
    "import openturns.viewer as viewer\n",
    "from statsmodels.distributions.empirical_distribution import ECDF\n",
    "from scipy import stats as st\n",
    "from scipy.stats import pearsonr\n",
    "from scipy.spatial.distance import jensenshannon\n",
    "\n",
    "# data and numerical functions\n",
    "import numpy as np\n",
    "import pandas as pd\n",
    "\n",
    "# graphing and visualization functions\n",
    "import matplotlib.pyplot as plt\n",
    "import seaborn as sns\n",
    "from matplotlib.offsetbox import AnchoredText\n",
    "\n",
    "# order reduction and data conditioners\n",
    "from sklearn.preprocessing import StandardScaler\n",
    "from sklearn.decomposition import PCA, KernelPCA\n",
    "from sklearn.model_selection import train_test_split\n",
    "\n",
    "# design of experiments\n",
    "from doepy import build\n",
    "\n",
    "# os operations\n",
    "import os as os\n",
    "import sys\n",
    "import datetime as dt\n",
    "import pickle\n",
    "from joblib import dump, load\n",
    "import time\n",
    "\n",
    "# app plotting\n",
    "from plotly.subplots import make_subplots\n",
    "import plotly.graph_objects as go\n",
    "from dash import Dash, dcc, html, Input, Output, State\n",
    "from jupyter_dash import JupyterDash\n",
    "\n",
    "# modeling code\n",
    "from fit_pca import *\n",
    "from sklearn.metrics import mean_squared_error, r2_score\n",
    "\n",
    "# custom functions\n",
    "import stats_functions as sf\n",
    "import copula_gen_data as cpgen\n",
    "from emulator_classes import Simulation, Data, Experiment, Analysis, AsdlModel"
   ],
   "metadata": {
    "collapsed": false,
    "pycharm": {
     "name": "#%%\n"
    }
   }
  },
  {
   "cell_type": "code",
   "execution_count": 3,
   "outputs": [
    {
     "name": "stdout",
     "output_type": "stream",
     "text": [
      "Current working directory: C:\\Users\\alexb\\PycharmProjects\\distribution-surrogates\n",
      "Data save directory: C:\\Users\\alexb\\PycharmProjects\\distribution-surrogates\\output\\\\modelbuidling20220517212044\n"
     ]
    }
   ],
   "source": [
    "# set up file I/O\n",
    "\n",
    "# get current working directory\n",
    "wrkdir = os.getcwd()\n",
    "print('Current working directory: '+wrkdir)\n",
    "# set up a data save directory for all future runs\n",
    "newoutputdir = wrkdir+'\\output'\n",
    "if not os.path.exists(newoutputdir):\n",
    "    os.makedirs(newoutputdir)\n",
    "# set up a new directory to store files for the current run - updates at each new full run of notebook\n",
    "curDatetime = dt.datetime.now()\n",
    "datasavedir = newoutputdir + r'\\\\' + 'modelbuidling' + str(curDatetime.strftime('%Y%m%d%H%M%S'))\n",
    "if not os.path.exists(datasavedir):\n",
    "    os.makedirs(datasavedir)\n",
    "print('Data save directory: '+datasavedir)"
   ],
   "metadata": {
    "collapsed": false,
    "pycharm": {
     "name": "#%%\n"
    }
   }
  },
  {
   "cell_type": "markdown",
   "source": [
    "#### Load the model trained in the previous notebook\n",
    "\n",
    "First, we load the trained model."
   ],
   "metadata": {
    "collapsed": false,
    "pycharm": {
     "name": "#%% md\n"
    }
   }
  },
  {
   "cell_type": "code",
   "execution_count": 4,
   "outputs": [],
   "source": [
    "# import model and simulation objects to work with\n",
    "\n",
    "# NOTE THIS PATH NEEDS TO BE MANUALLY UPDATED TO POINT TO THE JOBLIB SAVED FILE\n",
    "model_path = newoutputdir + '/modelbuidling20220517173950/trained_gp_model.joblib'\n",
    "trained_model = load(model_path)"
   ],
   "metadata": {
    "collapsed": false,
    "pycharm": {
     "name": "#%%\n"
    }
   }
  },
  {
   "cell_type": "markdown",
   "source": [
    "#### Interactive app\n",
    "\n",
    "The interactive app is set up through dash, with a function called each time a button is pressed, and inputs read in from slider bars. Run the code below to set up the function and then the app, and then open the link below in a browser to run the app."
   ],
   "metadata": {
    "collapsed": false,
    "pycharm": {
     "name": "#%% md\n"
    }
   }
  },
  {
   "cell_type": "code",
   "execution_count": 6,
   "outputs": [],
   "source": [
    "# parametric function\n",
    "def dash_parametric_model(x_input, romModel, scaler, ecdfyin, discrete_flags, custom_bins=None, num_samples=1000, num_dists=30, seed=42):\n",
    "    \"\"\"Function to parametrically generate a plot comparing ecdfs from model and actual simulation\"\"\"\n",
    "    # get predicted distribution arrays from model\n",
    "    x_input_exp = np.array([x_input, x_input])\n",
    "    y_predict = romModel.predict(x_input_exp)\n",
    "    # format into 3d array shape (should end up as (2,1000,30) to work correctly with model setup)\n",
    "    y_predict_formatted = cpgen.pca_destack(y_predict.T, num_samples, num_dists)\n",
    "    predicted_data = Data(ecdf_vals=(ecdfyin, y_predict_formatted), scaler=scaler, discrete_flags=discrete_flags, custom_bins=custom_bins)\n",
    "    predicted_data.data_setup_from_ecdfs()\n",
    "    y_predict_final = predicted_data.scaled_ecdfs[1][0]\n",
    "    ecdfyin = predicted_data.scaled_ecdfs[0]\n",
    "    # simulate actual data\n",
    "    local_sim = Simulation(x_input, corr_rng_seed=seed)\n",
    "    local_samples = np.array(local_sim.get_joint_distribution_samples(1000))\n",
    "    local_samples = np.expand_dims(local_samples, axis=0)\n",
    "    local_data = Data(samples=local_samples, custom_bins=custom_bins, scaler=scaler, discrete_flags=discrete_flags)\n",
    "    local_data.data_setup_from_samples()\n",
    "    y_true_final = local_data.scaled_ecdfs[1][0]\n",
    "    # plot comparison\n",
    "    fig = make_subplots(rows=10, cols=3, shared_yaxes=False)\n",
    "    for i in range(10):\n",
    "        for j in range(3):\n",
    "            # df for plotting\n",
    "            if i == 0 and j == 0:\n",
    "                fig.add_trace(go.Scatter(x=y_true_final[:,3*i+j], y=ecdfyin, mode='lines', name='true',\n",
    "                                         line=dict(color='#1f77b4', width=1),\n",
    "                                         marker=dict(color=[0, 1], coloraxis=\"coloraxis\")), row=i+1, col=j+1)\n",
    "                fig.add_trace(go.Scatter(x=y_predict_final[:,3*i+j], y=ecdfyin, mode='lines', name='model',\n",
    "                                         line=dict(color='#ff7f0e', width=1),\n",
    "                                         marker=dict(color=[0, 1], coloraxis=\"coloraxis\")), row=i+1, col=j+1)\n",
    "            else:\n",
    "                fig.add_trace(go.Scatter(x=y_true_final[:,3*i+j], y=ecdfyin, mode='lines', name='true',\n",
    "                                         line=dict(color='#1f77b4', width=1), showlegend=False,\n",
    "                                         marker=dict(color=[0, 1], coloraxis=\"coloraxis\")), row=i+1, col=j+1)\n",
    "                fig.add_trace(go.Scatter(x=y_predict_final[:,3*i+j], y=ecdfyin, mode='lines', name='model',\n",
    "                                         line=dict(color='#ff7f0e', width=1), showlegend=False,\n",
    "                                         marker=dict(color=[0, 1], coloraxis=\"coloraxis\")), row=i+1, col=j+1)\n",
    "    fig.update_layout(height=1000, width=1400, title_text='ECDF comparison', coloraxis=dict(colorscale='algae'))\n",
    "    fig.update_yaxes(showgrid=False, showticklabels=False)\n",
    "    return fig\n",
    "# test_x = np.array([1000., 250., 0., 0.5, 0.2, 45., 1., 3., 1., 2.2, 0.3, 0.6, 3., 8., 2.])\n",
    "# test_fig = dash_parametric_model(x_input=test_x, romModel=gpROM, scaler=data_train.scaler,\n",
    "#                                  discrete_flags=discrete_flags, ecdfyin=data_train.scaled_ecdfs[0])"
   ],
   "metadata": {
    "collapsed": false,
    "pycharm": {
     "name": "#%%\n"
    }
   }
  },
  {
   "cell_type": "code",
   "execution_count": 7,
   "outputs": [],
   "source": [
    "# dash setup for selecting inputs and comparing simulation and model\n",
    "\n",
    "app = JupyterDash(__name__)\n",
    "\n",
    "app.layout = html.Div([\n",
    "    dcc.Graph(id='graph-of-distributions'),\n",
    "    html.Button(id='submit-button-state', n_clicks=0, children='Submit'),\n",
    "    html.Div(id='output-state'),\n",
    "    dcc.Slider(trained_model.input_ranges[0][0], trained_model.input_ranges[0][1], id='input-1-slider-state', value=1000.),\n",
    "    dcc.Slider(trained_model.input_ranges[1][0], trained_model.input_ranges[1][1], id='input-2-slider-state', value=6500.),\n",
    "    dcc.Slider(trained_model.input_ranges[2][0], trained_model.input_ranges[2][1], id='input-3-slider-state', value=-1.),\n",
    "    dcc.Slider(trained_model.input_ranges[3][0], trained_model.input_ranges[3][1], id='input-4-slider-state', value=0.2),\n",
    "    dcc.Slider(trained_model.input_ranges[4][0], trained_model.input_ranges[4][1], id='input-5-slider-state', value=0.2),\n",
    "    dcc.Slider(trained_model.input_ranges[5][0], trained_model.input_ranges[5][1], id='input-6-slider-state', value=45.),\n",
    "    dcc.Slider(trained_model.input_ranges[6][0], trained_model.input_ranges[6][1], id='input-7-slider-state', value=1.2),\n",
    "    dcc.Slider(trained_model.input_ranges[7][0], trained_model.input_ranges[7][1], id='input-8-slider-state', value=3.0),\n",
    "    dcc.Slider(trained_model.input_ranges[8][0], trained_model.input_ranges[8][1], id='input-9-slider-state', value=0.6),\n",
    "    dcc.Slider(trained_model.input_ranges[9][0], trained_model.input_ranges[9][1], id='input-10-slider-state', value=2.2),\n",
    "    dcc.Slider(trained_model.input_ranges[10][0], trained_model.input_ranges[10][1], id='input-11-slider-state', value=0.7),\n",
    "    dcc.Slider(trained_model.input_ranges[11][0], trained_model.input_ranges[11][1], id='input-12-slider-state', value=0.6),\n",
    "    dcc.Slider(trained_model.input_ranges[12][0], trained_model.input_ranges[12][1], id='input-13-slider-state', value=12.),\n",
    "    dcc.Slider(trained_model.input_ranges[13][0], trained_model.input_ranges[13][1], id='input-14-slider-state', value=8.),\n",
    "    dcc.Slider(trained_model.input_ranges[14][0], trained_model.input_ranges[14][1], id='input-15-slider-state', value=2.)\n",
    "])\n",
    "\n",
    "\n",
    "@app.callback(Output('output-state', 'children'),\n",
    "              Input('submit-button-state', 'n_clicks'),\n",
    "              State('input-1-slider-state', 'value'),\n",
    "              State('input-2-slider-state', 'value'),\n",
    "              State('input-3-slider-state', 'value'),\n",
    "              State('input-4-slider-state', 'value'),\n",
    "              State('input-5-slider-state', 'value'),\n",
    "              State('input-6-slider-state', 'value'),\n",
    "              State('input-7-slider-state', 'value'),\n",
    "              State('input-8-slider-state', 'value'),\n",
    "              State('input-9-slider-state', 'value'),\n",
    "              State('input-10-slider-state', 'value'),\n",
    "              State('input-11-slider-state', 'value'),\n",
    "              State('input-12-slider-state', 'value'),\n",
    "              State('input-13-slider-state', 'value'),\n",
    "              State('input-14-slider-state', 'value'),\n",
    "              State('input-15-slider-state', 'value'))\n",
    "def update_output(n_clicks, input1, input2, input3, input4, input5, input6, input7, input8, input9,\n",
    "                  input10, input11, input12, input13, input14, input15):\n",
    "    return u'''\n",
    "        The Button has been pressed {} times,\n",
    "        Inputs: \"{}\", \"{}\", \"{}\", \"{}\", \"{}\", \"{}\", \"{}\", \"{}\", \"{}\", \"{}\", \"{}\", \"{}\", \"{}\", \"{}\", \"{}\",\n",
    "    '''.format(n_clicks, str(input1), str(input2), str(input3), str(input4), str(input5), str(input6),\n",
    "               str(input7), str(input8), str(input9), str(input10), str(input11), str(input12),\n",
    "               str(input13), str(input14), str(input15))\n",
    "\n",
    "\n",
    "@app.callback(Output('graph-of-distributions', 'figure'),\n",
    "              Input('submit-button-state', 'n_clicks'),\n",
    "              State('input-1-slider-state', 'value'),\n",
    "              State('input-2-slider-state', 'value'),\n",
    "              State('input-3-slider-state', 'value'),\n",
    "              State('input-4-slider-state', 'value'),\n",
    "              State('input-5-slider-state', 'value'),\n",
    "              State('input-6-slider-state', 'value'),\n",
    "              State('input-7-slider-state', 'value'),\n",
    "              State('input-8-slider-state', 'value'),\n",
    "              State('input-9-slider-state', 'value'),\n",
    "              State('input-10-slider-state', 'value'),\n",
    "              State('input-11-slider-state', 'value'),\n",
    "              State('input-12-slider-state', 'value'),\n",
    "              State('input-13-slider-state', 'value'),\n",
    "              State('input-14-slider-state', 'value'),\n",
    "              State('input-15-slider-state', 'value'))\n",
    "def update_figure(n_clicks, input1, input2, input3, input4, input5, input6, input7, input8, input9,\n",
    "                  input10, input11, input12, input13, input14, input15):\n",
    "    input_array = np.array([float(input1), float(input2), float(input3), float(input4), float(input5),\n",
    "                            float(input6), float(input7), float(input8), float(input9), float(input10),\n",
    "                            float(input11), float(input12), float(input13), float(input14), float(input15)])\n",
    "    return dash_parametric_model(x_input=input_array, romModel=trained_model.model, scaler=trained_model.true_data_train.scaler,\n",
    "                                 ecdfyin=trained_model.true_data_train.scaled_ecdfs[0],\n",
    "                                 discrete_flags=trained_model.true_data_train.discrete_flags)"
   ],
   "metadata": {
    "collapsed": false,
    "pycharm": {
     "name": "#%%\n"
    }
   }
  },
  {
   "cell_type": "code",
   "execution_count": 8,
   "outputs": [
    {
     "name": "stdout",
     "output_type": "stream",
     "text": [
      "Dash app running on http://127.0.0.1:8000/\n"
     ]
    }
   ],
   "source": [
    "app.run_server(port=8000)"
   ],
   "metadata": {
    "collapsed": false,
    "pycharm": {
     "name": "#%%\n"
    }
   }
  }
 ],
 "metadata": {
  "kernelspec": {
   "display_name": "Python 3",
   "language": "python",
   "name": "python3"
  },
  "language_info": {
   "codemirror_mode": {
    "name": "ipython",
    "version": 2
   },
   "file_extension": ".py",
   "mimetype": "text/x-python",
   "name": "python",
   "nbconvert_exporter": "python",
   "pygments_lexer": "ipython2",
   "version": "2.7.6"
  }
 },
 "nbformat": 4,
 "nbformat_minor": 0
}